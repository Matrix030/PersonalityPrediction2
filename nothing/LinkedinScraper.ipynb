{
 "cells": [
  {
   "cell_type": "code",
   "execution_count": 1,
   "metadata": {},
   "outputs": [
    {
     "name": "stdout",
     "output_type": "stream",
     "text": [
      "Collecting linkedin_scraper\n",
      "  Downloading linkedin_scraper-2.9.0-py3-none-any.whl (25 kB)\n",
      "Requirement already satisfied: requests in e:\\ide\\anaconda\\lib\\site-packages (from linkedin_scraper) (2.26.0)\n",
      "Collecting selenium\n",
      "  Downloading selenium-4.5.0-py3-none-any.whl (995 kB)\n",
      "     -------------------------------------- 995.2/995.2 kB 9.0 MB/s eta 0:00:00\n",
      "Requirement already satisfied: lxml in e:\\ide\\anaconda\\lib\\site-packages (from linkedin_scraper) (4.6.3)\n",
      "Requirement already satisfied: idna<4,>=2.5 in e:\\ide\\anaconda\\lib\\site-packages (from requests->linkedin_scraper) (3.2)\n",
      "Requirement already satisfied: charset-normalizer~=2.0.0 in e:\\ide\\anaconda\\lib\\site-packages (from requests->linkedin_scraper) (2.0.4)\n",
      "Requirement already satisfied: certifi>=2017.4.17 in e:\\ide\\anaconda\\lib\\site-packages (from requests->linkedin_scraper) (2021.10.8)\n",
      "Requirement already satisfied: urllib3<1.27,>=1.21.1 in e:\\ide\\anaconda\\lib\\site-packages (from requests->linkedin_scraper) (1.26.7)\n",
      "Collecting trio-websocket~=0.9\n",
      "  Downloading trio_websocket-0.9.2-py3-none-any.whl (16 kB)\n",
      "Collecting trio~=0.17\n",
      "  Downloading trio-0.22.0-py3-none-any.whl (384 kB)\n",
      "     -------------------------------------- 384.9/384.9 kB 8.0 MB/s eta 0:00:00\n",
      "Requirement already satisfied: sniffio in e:\\ide\\anaconda\\lib\\site-packages (from trio~=0.17->selenium->linkedin_scraper) (1.2.0)\n",
      "Requirement already satisfied: sortedcontainers in e:\\ide\\anaconda\\lib\\site-packages (from trio~=0.17->selenium->linkedin_scraper) (2.4.0)\n",
      "Collecting exceptiongroup>=1.0.0rc9\n",
      "  Downloading exceptiongroup-1.0.0-py3-none-any.whl (12 kB)\n",
      "Requirement already satisfied: async-generator>=1.9 in e:\\ide\\anaconda\\lib\\site-packages (from trio~=0.17->selenium->linkedin_scraper) (1.10)\n",
      "Requirement already satisfied: cffi>=1.14 in e:\\ide\\anaconda\\lib\\site-packages (from trio~=0.17->selenium->linkedin_scraper) (1.14.6)\n",
      "Requirement already satisfied: attrs>=19.2.0 in e:\\ide\\anaconda\\lib\\site-packages (from trio~=0.17->selenium->linkedin_scraper) (21.2.0)\n",
      "Collecting outcome\n",
      "  Downloading outcome-1.2.0-py2.py3-none-any.whl (9.7 kB)\n",
      "Collecting wsproto>=0.14\n",
      "  Downloading wsproto-1.2.0-py3-none-any.whl (24 kB)\n",
      "Requirement already satisfied: PySocks!=1.5.7,<2.0,>=1.5.6 in e:\\ide\\anaconda\\lib\\site-packages (from urllib3<1.27,>=1.21.1->requests->linkedin_scraper) (1.7.1)\n",
      "Requirement already satisfied: pycparser in e:\\ide\\anaconda\\lib\\site-packages (from cffi>=1.14->trio~=0.17->selenium->linkedin_scraper) (2.20)\n",
      "Collecting h11<1,>=0.9.0\n",
      "  Downloading h11-0.14.0-py3-none-any.whl (58 kB)\n",
      "     ---------------------------------------- 58.3/58.3 kB 3.0 MB/s eta 0:00:00\n",
      "Installing collected packages: outcome, h11, exceptiongroup, wsproto, trio, trio-websocket, selenium, linkedin_scraper\n",
      "Successfully installed exceptiongroup-1.0.0 h11-0.14.0 linkedin_scraper-2.9.0 outcome-1.2.0 selenium-4.5.0 trio-0.22.0 trio-websocket-0.9.2 wsproto-1.2.0\n",
      "Note: you may need to restart the kernel to use updated packages.\n"
     ]
    }
   ],
   "source": [
    "pip install --user linkedin_scraper"
   ]
  },
  {
   "cell_type": "code",
   "execution_count": 3,
   "metadata": {},
   "outputs": [
    {
     "ename": "SyntaxError",
     "evalue": "invalid syntax (Temp/ipykernel_17104/912183789.py, line 1)",
     "output_type": "error",
     "traceback": [
      "\u001b[1;36m  File \u001b[1;32m\"C:\\Users\\rishi\\AppData\\Local\\Temp/ipykernel_17104/912183789.py\"\u001b[1;36m, line \u001b[1;32m1\u001b[0m\n\u001b[1;33m    export CHROMEDRIVER = \"C:\\Program Files\\Google\\Chrome\\Application\\chrome.exe\"\u001b[0m\n\u001b[1;37m           ^\u001b[0m\n\u001b[1;31mSyntaxError\u001b[0m\u001b[1;31m:\u001b[0m invalid syntax\n"
     ]
    }
   ],
   "source": [
    "export CHROMEDRIVER = \"C:\\Program Files\\Google\\Chrome\\Application\\chrome.exe\""
   ]
  },
  {
   "cell_type": "code",
   "execution_count": null,
   "metadata": {},
   "outputs": [],
   "source": []
  }
 ],
 "metadata": {
  "kernelspec": {
   "display_name": "Python 3.9.7 ('base')",
   "language": "python",
   "name": "python3"
  },
  "language_info": {
   "codemirror_mode": {
    "name": "ipython",
    "version": 3
   },
   "file_extension": ".py",
   "mimetype": "text/x-python",
   "name": "python",
   "nbconvert_exporter": "python",
   "pygments_lexer": "ipython3",
   "version": "3.9.7"
  },
  "orig_nbformat": 4,
  "vscode": {
   "interpreter": {
    "hash": "e43ea8255802134a532b08011d21717fb63602d2d01716e85f9645328b9cdbcb"
   }
  }
 },
 "nbformat": 4,
 "nbformat_minor": 2
}
