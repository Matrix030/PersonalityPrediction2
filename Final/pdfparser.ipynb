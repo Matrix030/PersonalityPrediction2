{
 "cells": [
  {
   "cell_type": "code",
   "execution_count": null,
   "metadata": {},
   "outputs": [],
   "source": [
    "!pip uninstall pyresparser -y"
   ]
  },
  {
   "cell_type": "code",
   "execution_count": null,
   "metadata": {},
   "outputs": [],
   "source": [
    "!pip uninstall spacy -y"
   ]
  },
  {
   "cell_type": "code",
   "execution_count": null,
   "metadata": {},
   "outputs": [],
   "source": [
    "!pip install nltk \n",
    "!pip install spacy==2.3.5 \n",
    "!pip install https://github.com/explosion/spacy-models/releases/download/en_core_web_sm-2.3.1/en_core_web_sm-2.3.1.tar.gz \n",
    "!pip install pyresparser"
   ]
  },
  {
   "cell_type": "code",
   "execution_count": null,
   "metadata": {},
   "outputs": [],
   "source": [
    "!pip uninstall "
   ]
  },
  {
   "cell_type": "code",
   "execution_count": 12,
   "metadata": {},
   "outputs": [
    {
     "name": "stderr",
     "output_type": "stream",
     "text": [
      "e:\\IDE\\Anaconda\\lib\\site-packages\\spacy\\util.py:275: UserWarning: [W031] Model 'en_training' (0.0.0) requires spaCy v2.1 and is incompatible with the current spaCy version (2.3.5). This may lead to unexpected results or runtime errors. To resolve this, download a newer compatible model or retrain your custom model with the current spaCy version. For more details and available updates, run: python -m spacy validate\n",
      "  warnings.warn(warn_msg)\n"
     ]
    },
    {
     "data": {
      "text/plain": [
       "{'name': 'Bhavan Ezhukone',\n",
       " 'email': 'poojaajith001@gmail.com',\n",
       " 'mobile_number': '7025936675',\n",
       " 'skills': ['Python',\n",
       "  'System',\n",
       "  'C',\n",
       "  'Html',\n",
       "  'Sql',\n",
       "  'Technical',\n",
       "  'Word',\n",
       "  'Java',\n",
       "  'Css',\n",
       "  'Powerpoint',\n",
       "  'English',\n",
       "  'Mobile',\n",
       "  'Analysis',\n",
       "  'Engineering',\n",
       "  'Website',\n",
       "  'Php'],\n",
       " 'college_name': None,\n",
       " 'degree': None,\n",
       " 'designation': None,\n",
       " 'experience': None,\n",
       " 'company_names': None,\n",
       " 'no_of_pages': 2,\n",
       " 'total_experience': 0}"
      ]
     },
     "execution_count": 12,
     "metadata": {},
     "output_type": "execute_result"
    }
   ],
   "source": [
    "from pyresparser import ResumeParser\n",
    "data = ResumeParser(\"../resumes/CVpj_tweet.pdf\").get_extracted_data()\n",
    "data"
   ]
  },
  {
   "cell_type": "code",
   "execution_count": 13,
   "metadata": {},
   "outputs": [
    {
     "name": "stdout",
     "output_type": "stream",
     "text": [
      "Shardul Gore\n",
      "\n",
      "Objective\n",
      "\n",
      "Seeking an entry-level position with eagerness to learn new technologies and\n",
      "methodology. Also, Willing to embrace new challenges and experiences.\n",
      "\n",
      "Academic Qualifications\n",
      "\n",
      "B.E. in Computer Engineering\n",
      "SIES Graduate School of Technology Nerul\n",
      "2019 - Present \n",
      "Current CGPA: 9.27\n",
      "\n",
      "Email\n",
      "\n",
      "shardulgg972001@gmail.com\n",
      "\n",
      "Address\n",
      "AL-6/24/6, Panchavati\n",
      "\n",
      "Apartment, Sector-5, Airoli,\n",
      "\n",
      "Navi Mumbai-400708\n",
      "\n",
      "Phone\n",
      "8657324140\n",
      "\n",
      "Skills\n",
      "Html\n",
      "\n",
      "CSS\n",
      "\n",
      "BootStrap\n",
      "\n",
      "JavaScript\n",
      "\n",
      "ReactJs\n",
      "\n",
      "MongoDb\n",
      "\n",
      "MERN Stack\n",
      "\n",
      "Python\n",
      "\n",
      "Data Science\n",
      "\n",
      "Machine Learning\n",
      "\n",
      "Jira\n",
      "\n",
      "Volunteering\n",
      "\n",
      "Chairperson of CSI SIESGST Student\n",
      "chapter (2022-present)\n",
      "\n",
      "Secretary of CSI SIESGST Student\n",
      "chapter (2021-22)\n",
      "\n",
      "Language\n",
      "\n",
      "English, Hindi, Marathi\n",
      "\n",
      "Higher Secondary (HSC)\n",
      "DAV Public School, Airoli \n",
      "2017 88.4%\n",
      "\n",
      "Senior Secondary (HSC)\n",
      "DAV Public School, Airoli \n",
      "2017 92.4%\n",
      "\n",
      "Projects\n",
      "\n",
      "Office Enquiry Chatbot\n",
      "\n",
      "Recommendation for holistic growth of students\n",
      "\n",
      "To ease the learning &fair assessment process of students practical\n",
      "activities\n",
      "\n",
      "Full stack Booking website\n",
      "\n",
      "Certifications\n",
      "\n",
      "The Complete ReactJs Course - Basics To Advances\n",
      "Edyoda Digital University (udemy)\n",
      "Dec 2021\n",
      "\n",
      "Html, Css And Javascript For Web Developers (2021 - 2021)\n",
      "Johns Hopkins University (Cousrera)\n",
      "June 2021\n",
      "\n",
      "Programming Foundations With JavaScript, HTML And CSS\n",
      "Duke University (Coursera) \n",
      "June 2020 - July 2020\n",
      "\n",
      "Python with NumPy for Data Science & Machine Learning\n",
      "Pruthviraja L (udemy)\n",
      "July 2021\n",
      "\n",
      "Machine Learning- From Basics to Advance\n",
      "Edyoda Digital University (udemy)\n",
      "June 2022\n",
      "\n",
      "Ultimate Python Bootcamp For Data Science & Machine Learning\n",
      "Pruthviraja L (udemy)\n",
      "June 2022\n",
      "\n",
      "\f\n"
     ]
    }
   ],
   "source": [
    "from pdfminer.high_level import extract_text\n",
    "\n",
    "def extract_text_from_pdf(pdf_path):\n",
    "    return extract_text(pdf_path)\n",
    "\n",
    "if __name__ == '__main__':\n",
    "    print(extract_text_from_pdf(\"../resumes/shardul cv updated.pdf\"))"
   ]
  },
  {
   "cell_type": "code",
   "execution_count": 14,
   "metadata": {},
   "outputs": [],
   "source": [
    "from pdfminer.high_level import extract_text\n",
    "trial = extract_text(\"../resumes/shardul cv updated.pdf\")"
   ]
  },
  {
   "cell_type": "code",
   "execution_count": 15,
   "metadata": {},
   "outputs": [
    {
     "data": {
      "text/plain": [
       "str"
      ]
     },
     "execution_count": 15,
     "metadata": {},
     "output_type": "execute_result"
    }
   ],
   "source": [
    "trial += 'take'\n",
    "type(trial)"
   ]
  },
  {
   "cell_type": "code",
   "execution_count": 16,
   "metadata": {},
   "outputs": [],
   "source": [
    "trial = \"\"\"Among all the creatures on Earth, human being is definitely superior. Writing a few lines or words about myself to introduce, I feel myself to be tiny part of this entire world that is filled with the human beings around. I am a human. I myself am humble, kind, caring and courageous. I am most respected, loved and responsible human being. Though, it is quite hard to write about yourself yet I have tried myself best to express all about myself.\n",
    "\n",
    "Hailing from a working class family, I am Rajesh. I am simple, sweet, confident and cunning fellow. My father is a renowned doctor who knows how to love his profession with passion and dedication. While my mother is a hardworking teacher at city public school whose only passion is to transform the lives of her students with knowledge and a good vision.\n",
    "That’s I have learned, from the very start, the importance of passion, dedication, confidence and time management. We are four brothers and sisters among our parents and my grandmother. My family is what my parents had worked for, ie completely happy and satisfied one.\n",
    "\n",
    "I am the youngest of my only brother and two sisters. My elder brother is just six years elder in age than me. My other two elder sisters are younger than my brother. Being the eldest one, sometimes, gives you the favors. Luckily, I am loved, cared and most favored upon in my all family.\n",
    "\n",
    "I am the students of high school. My elder brother studies in university. One elder sister of mine is the college student whereas the the youngest sister of mine is studying class 10. That’s, I go to school with my younger sister. I wake up early in the morning and finish up all of my doings on exact time. We all pack up for our respective works. My siblings prepare for school, college and university.\n",
    "\n",
    "My father, for hospital and my mother for nearby school. The values like hard work, time management, sincerity with work and dedication to purpose have been ingrained in our nature. Its true to say that a child becomes what the environment he gets in his home. All the essential humane qualities like sincerity, dedication, truth and honesty I do experience practically at my home.\n",
    "\n",
    "The school is a place that truly helps shaping one’s personality. My school is like another Godsend gift for me. It is one of the best school in our entire vicinity. We are truly cared, rightly educated and well socialized here at our school. I myself feel proud of being a student here. I do take care of what is being taught and what is to learn. I respect my teachers, my fellow beings, my school and every thing that is associated with my school.\n",
    "\n",
    "I am a good student, who actively participates in all activities, be it exams or extra curricular activities. The extracurricular activities like sports, quiz competitions, essays and speech competitions etc. are the heart of my institution. I myself am essay competition winner on various times.\n",
    "\n",
    "Truly it is said, one can not study from the books alone. Instead, one has to learn from all extracurricular activities in which one participates. I myself am the best essay writer, cricket player, singer and dancer and topper in all exams. The Career planning is the very thing that irritates oneself. Without a sound career planning, right from the start, one can not stay on the right track. One has to do the things or set the goals in accordance to his or her broad career goals.\n",
    "\n",
    "A man without a sound career planning is like a ship without the radar. It drifts and ultimately sinks down in the deep ocean. But unlike my father, who is a doctor, I myself feel a little interest in this profession. Though it is the best profession but one’s interest and aptitude differs. I myself wants to be a Civil servant to serve my people in my best capacity.\n",
    "\n",
    "I am very much inspired from my maternal uncle who is the chief of police force. That truly inspires me so as I myself want to serve my nation by being a good civil servant. One’s future can be determined by what one has achieved today or what one is doing today. A man who dreams only for future and does nothing for tomorrow can be best named as  lazy and the pathetic person.\n",
    "\n",
    "In that way, I dislike myself being called as a man without a vision and castle maker in sky. I do work for what I dream. So far, I have proved myself being the best one in all fields like in academic, extracurricular and in personal domains. All of this success, hard work, dedication, determination is truly credited to my parents who have made this possible for me.\n",
    "\n",
    "Successes and failures are closely associated with one’s achievements and losses. One who achieves anything today has lost a thing yesterday. There is no completely successful man without the mixture of both failures and successes. That is to say, I failed a dozen of times. But, every failure made me stronger ever.\n",
    "\n",
    "My family, especially my mother, has been the much source of encouragement and motivation for me. That is why I myself am a truly self inspired, strengthened and dedicated fellow today. I have learnt a lot from my mistakes and from my failures. I never regard my failure as a curse rather an opportunity to improve and to improvise.\n",
    "\n",
    "What I myself regard life is a total pot of opportunities. One has to harness one’s skills and abilities to the maximum of one’s capacity. For every problem there is a solution. I regard the life as a blessing gift to humanity. One should strive hard to improve not only his lot but for his fellow beings.\n",
    "\n",
    "The service of humanity is the best of all services. What I have learnt myself from my experience and struggles is that one should never cease working hard, be confident, positive and adoptable to all situations. The biggest success is that one becomes invincible. Only than, one can face the life in a full vigor and fullest of confidence.\n",
    "\n",
    "Therefore, writing about myself, I m here to express myself that what I see, what I experience and what I plan for my life is the total manifestation of what I do today. I try myself to be humble, passionate, dedicated, hardworking and honest. I deem my parents as being my best mentors. I have learnt the real meaning and worth of life from my parents. I am with a happy, focused and hardworking family. That is definitely the greatest blessing of God for me.\"\"\""
   ]
  },
  {
   "cell_type": "code",
   "execution_count": 17,
   "metadata": {},
   "outputs": [],
   "source": [
    "import numpy as np\n",
    "import pandas as pd\n",
    "import matplotlib.pyplot as plt\n",
    "import math"
   ]
  },
  {
   "cell_type": "code",
   "execution_count": 18,
   "metadata": {},
   "outputs": [],
   "source": [
    "dataset = pd.read_csv('Enhanced_ocean_traits.csv')"
   ]
  },
  {
   "cell_type": "code",
   "execution_count": 19,
   "metadata": {},
   "outputs": [
    {
     "data": {
      "text/html": [
       "<div>\n",
       "<style scoped>\n",
       "    .dataframe tbody tr th:only-of-type {\n",
       "        vertical-align: middle;\n",
       "    }\n",
       "\n",
       "    .dataframe tbody tr th {\n",
       "        vertical-align: top;\n",
       "    }\n",
       "\n",
       "    .dataframe thead th {\n",
       "        text-align: right;\n",
       "    }\n",
       "</style>\n",
       "<table border=\"1\" class=\"dataframe\">\n",
       "  <thead>\n",
       "    <tr style=\"text-align: right;\">\n",
       "      <th></th>\n",
       "      <th>Unnamed: 0</th>\n",
       "      <th>Openness</th>\n",
       "      <th>Conscintiousness</th>\n",
       "      <th>Extraversion</th>\n",
       "      <th>Agreeableness</th>\n",
       "      <th>Neuroticism</th>\n",
       "    </tr>\n",
       "  </thead>\n",
       "  <tbody>\n",
       "    <tr>\n",
       "      <th>0</th>\n",
       "      <td>0</td>\n",
       "      <td>take</td>\n",
       "      <td>heedful</td>\n",
       "      <td>extravert</td>\n",
       "      <td>meek</td>\n",
       "      <td>equilibrise</td>\n",
       "    </tr>\n",
       "    <tr>\n",
       "      <th>1</th>\n",
       "      <td>1</td>\n",
       "      <td>engineer</td>\n",
       "      <td>ascendancy</td>\n",
       "      <td>self-asserting</td>\n",
       "      <td>small-scale</td>\n",
       "      <td>amass</td>\n",
       "    </tr>\n",
       "    <tr>\n",
       "      <th>2</th>\n",
       "      <td>2</td>\n",
       "      <td>square</td>\n",
       "      <td>engineer</td>\n",
       "      <td>well-disposed</td>\n",
       "      <td>tender</td>\n",
       "      <td>call for</td>\n",
       "    </tr>\n",
       "    <tr>\n",
       "      <th>3</th>\n",
       "      <td>3</td>\n",
       "      <td>straight from the shoulder</td>\n",
       "      <td>thoughtful</td>\n",
       "      <td>straight-from-the-shoulder</td>\n",
       "      <td>sort</td>\n",
       "      <td>smooth</td>\n",
       "    </tr>\n",
       "    <tr>\n",
       "      <th>4</th>\n",
       "      <td>4</td>\n",
       "      <td>outspoken</td>\n",
       "      <td>insure</td>\n",
       "      <td>outspoken</td>\n",
       "      <td>trustworthy</td>\n",
       "      <td>balance</td>\n",
       "    </tr>\n",
       "    <tr>\n",
       "      <th>...</th>\n",
       "      <td>...</td>\n",
       "      <td>...</td>\n",
       "      <td>...</td>\n",
       "      <td>...</td>\n",
       "      <td>...</td>\n",
       "      <td>...</td>\n",
       "    </tr>\n",
       "    <tr>\n",
       "      <th>68</th>\n",
       "      <td>68</td>\n",
       "      <td>NaN</td>\n",
       "      <td>unionized</td>\n",
       "      <td>NaN</td>\n",
       "      <td>NaN</td>\n",
       "      <td>NaN</td>\n",
       "    </tr>\n",
       "    <tr>\n",
       "      <th>69</th>\n",
       "      <td>69</td>\n",
       "      <td>NaN</td>\n",
       "      <td>condition</td>\n",
       "      <td>NaN</td>\n",
       "      <td>NaN</td>\n",
       "      <td>NaN</td>\n",
       "    </tr>\n",
       "    <tr>\n",
       "      <th>70</th>\n",
       "      <td>70</td>\n",
       "      <td>NaN</td>\n",
       "      <td>wakeful</td>\n",
       "      <td>NaN</td>\n",
       "      <td>NaN</td>\n",
       "      <td>NaN</td>\n",
       "    </tr>\n",
       "    <tr>\n",
       "      <th>71</th>\n",
       "      <td>71</td>\n",
       "      <td>NaN</td>\n",
       "      <td>see to it</td>\n",
       "      <td>NaN</td>\n",
       "      <td>NaN</td>\n",
       "      <td>NaN</td>\n",
       "    </tr>\n",
       "    <tr>\n",
       "      <th>72</th>\n",
       "      <td>72</td>\n",
       "      <td>NaN</td>\n",
       "      <td>get up</td>\n",
       "      <td>NaN</td>\n",
       "      <td>NaN</td>\n",
       "      <td>NaN</td>\n",
       "    </tr>\n",
       "  </tbody>\n",
       "</table>\n",
       "<p>73 rows × 6 columns</p>\n",
       "</div>"
      ],
      "text/plain": [
       "    Unnamed: 0                    Openness Conscintiousness  \\\n",
       "0            0                        take          heedful   \n",
       "1            1                    engineer       ascendancy   \n",
       "2            2                      square         engineer   \n",
       "3            3  straight from the shoulder       thoughtful   \n",
       "4            4                   outspoken           insure   \n",
       "..         ...                         ...              ...   \n",
       "68          68                         NaN        unionized   \n",
       "69          69                         NaN        condition   \n",
       "70          70                         NaN          wakeful   \n",
       "71          71                         NaN        see to it   \n",
       "72          72                         NaN           get up   \n",
       "\n",
       "                  Extraversion Agreeableness  Neuroticism  \n",
       "0                    extravert          meek  equilibrise  \n",
       "1               self-asserting   small-scale        amass  \n",
       "2                well-disposed        tender     call for  \n",
       "3   straight-from-the-shoulder          sort       smooth  \n",
       "4                    outspoken   trustworthy      balance  \n",
       "..                         ...           ...          ...  \n",
       "68                         NaN           NaN          NaN  \n",
       "69                         NaN           NaN          NaN  \n",
       "70                         NaN           NaN          NaN  \n",
       "71                         NaN           NaN          NaN  \n",
       "72                         NaN           NaN          NaN  \n",
       "\n",
       "[73 rows x 6 columns]"
      ]
     },
     "execution_count": 19,
     "metadata": {},
     "output_type": "execute_result"
    }
   ],
   "source": [
    "dataset"
   ]
  },
  {
   "cell_type": "code",
   "execution_count": 20,
   "metadata": {},
   "outputs": [],
   "source": [
    "this_column = dataset[dataset.columns[2]].tolist()"
   ]
  },
  {
   "cell_type": "code",
   "execution_count": 21,
   "metadata": {},
   "outputs": [
    {
     "name": "stdout",
     "output_type": "stream",
     "text": [
      "yes it is present the word is responsible\n",
      "yes it is present the word is honest\n",
      "yes it is present the word is see\n",
      "yes it is present the word is prepare\n",
      "yes it is present the word is form\n"
     ]
    }
   ],
   "source": [
    "count = 0\n",
    "for i in (this_column):\n",
    "    if type(i) != type(trial):\n",
    "        break\n",
    "    elif i in trial:\n",
    "        print('yes it is present the word is', i)"
   ]
  },
  {
   "cell_type": "code",
   "execution_count": null,
   "metadata": {},
   "outputs": [],
   "source": [
    "type(dataset[dataset.columns[1]].tolist())"
   ]
  },
  {
   "cell_type": "code",
   "execution_count": null,
   "metadata": {},
   "outputs": [],
   "source": []
  }
 ],
 "metadata": {
  "kernelspec": {
   "display_name": "Python 3.9.7 ('base')",
   "language": "python",
   "name": "python3"
  },
  "language_info": {
   "codemirror_mode": {
    "name": "ipython",
    "version": 3
   },
   "file_extension": ".py",
   "mimetype": "text/x-python",
   "name": "python",
   "nbconvert_exporter": "python",
   "pygments_lexer": "ipython3",
   "version": "3.9.7"
  },
  "orig_nbformat": 4,
  "vscode": {
   "interpreter": {
    "hash": "e43ea8255802134a532b08011d21717fb63602d2d01716e85f9645328b9cdbcb"
   }
  }
 },
 "nbformat": 4,
 "nbformat_minor": 2
}
